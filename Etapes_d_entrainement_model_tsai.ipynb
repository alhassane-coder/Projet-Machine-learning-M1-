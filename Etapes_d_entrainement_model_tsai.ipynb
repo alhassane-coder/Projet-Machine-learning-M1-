{
  "cells": [
    {
      "cell_type": "markdown",
      "metadata": {
        "id": "70an7uC_amxo"
      },
      "source": [
        "# Étapes pour entraîner un modèle de prédiction avec `tsai` et `sklearn`\n",
        "Ce notebook présente les étapes pour entraîner un modèle en utilisant les bibliothèques `tsai` et `sklearn`.\n",
        "Il inclut la préparation des données, la création du DataLoader, l'entraînement, et l'évaluation du modèle."
      ]
    },
    {
      "cell_type": "markdown",
      "metadata": {
        "id": "Phk1GZLmamxq"
      },
      "source": [
        "## 1. Importer les bibliothèques nécessaires"
      ]
    },
    {
      "cell_type": "code",
      "execution_count": null,
      "metadata": {
        "id": "FuFzUIDIamxr"
      },
      "outputs": [],
      "source": [
        "#Installation de la derniere version stable ee tsai\n",
        "stable = True\n",
        "!pip install {\"tsai -U \" if stable else \" git+https://github.com/timeseriesAI/tsai.git\"} >> /dev/null\n",
        "\n",
        "# Importation des bibliothèques nécessaires\n",
        "\n",
        "from tsai.all import *\n",
        "import sklearn.metrics as skm"
      ]
    },
    {
      "cell_type": "markdown",
      "metadata": {
        "id": "vVLsHp2aamxs"
      },
      "source": [
        "## 2. Préparer les données\n",
        "Ici on utilise la fonction `get_UCR_data` pour charger un ensemble de données ( dataset ) . Par exemple, ici nous utilisons le dataset **ECG200**."
      ]
    },
    {
      "cell_type": "code",
      "execution_count": null,
      "metadata": {
        "id": "MiLpUC83amxt"
      },
      "outputs": [],
      "source": [
        "# Chargement du dataset\n",
        "dsid = 'ECG200'\n",
        "X, y, splits = get_UCR_data(dsid,return_split=False)"
      ]
    },
    {
      "cell_type": "markdown",
      "metadata": {
        "id": "d7nhE86Zamxt"
      },
      "source": [
        "## 3. Préparer les ensembles de données\n",
        "### a) Créer le dataset"
      ]
    },
    {
      "cell_type": "code",
      "execution_count": null,
      "metadata": {
        "id": "b3_4CDAmamxu"
      },
      "outputs": [],
      "source": [
        "# Création du dataset\n",
        "tfms = [None, [Categorize()]]  # Transformation des labels en catégories\n",
        "dsets = TSDatasets(X, y, tfms=tfms, splits=splits, inplace=True)"
      ]
    },
    {
      "cell_type": "markdown",
      "metadata": {
        "id": "7yzHpYQbamxu"
      },
      "source": [
        "### b) Construire le DataLoader\n",
        "Le DataLoader permet de gérer les lots de données."
      ]
    },
    {
      "cell_type": "code",
      "execution_count": null,
      "metadata": {
        "id": "_TUmk5plamxu"
      },
      "outputs": [],
      "source": [
        "# Création du DataLoader\n",
        "batch_tfms = TSStandardize()\n",
        "dls = TSDataLoaders.from_dsets(\n",
        "    dsets.train,\n",
        "    dsets.valid,\n",
        "    bs=[64, 128],  # Taille des lots\n",
        "    batch_tfms=batch_tfms,\n",
        "    num_workers=4  # Chargement parallèle\n",
        ")"
      ]
    },
    {
      "cell_type": "markdown",
      "metadata": {
        "id": "Q5q2uTqHamxu"
      },
      "source": [
        "## 4. Construire le Learner"
      ]
    },
    {
      "cell_type": "code",
      "execution_count": null,
      "metadata": {
        "colab": {
          "base_uri": "https://localhost:8080/"
        },
        "id": "lzVhvmDUamxv",
        "outputId": "ca556173-709d-4637-e675-ba383042dd48"
      },
      "outputs": [
        {
          "output_type": "execute_result",
          "data": {
            "text/plain": [
              "Path('models/stage0.pth')"
            ]
          },
          "metadata": {},
          "execution_count": 29
        }
      ],
      "source": [
        "# Définir le modèle et créer le Learner\n",
        "model = InceptionTime(dls.vars, dls.c)  # Exemple avec le modèle InceptionTime\n",
        "learn = Learner(dls, model, metrics=accuracy)\n",
        "\n",
        "# Sauvegarder le modèle initial (cycle 0)\n",
        "learn.save('stage0')"
      ]
    },
    {
      "cell_type": "markdown",
      "metadata": {
        "id": "4b3XD2_0amxv"
      },
      "source": [
        "> **Remarque** : Pour utilser un autre model, on peut juste remplacer `InceptionTime` par le model qu'on souhaite utiliser  comme `FCN` par exemple en modifiant la variable `model`."
      ]
    },
    {
      "cell_type": "markdown",
      "metadata": {
        "id": "FTEegbdDamxv"
      },
      "source": [
        "## 5. Entraîner le modèle"
      ]
    },
    {
      "cell_type": "code",
      "execution_count": null,
      "metadata": {
        "id": "ASNXcVm1amxv",
        "colab": {
          "base_uri": "https://localhost:8080/",
          "height": 1000
        },
        "outputId": "f4e4b6de-d689-4d89-e841-acc8d6f17ecc"
      },
      "outputs": [
        {
          "output_type": "display_data",
          "data": {
            "text/plain": [
              "<IPython.core.display.HTML object>"
            ],
            "text/html": [
              "\n",
              "<style>\n",
              "    /* Turns off some styling */\n",
              "    progress {\n",
              "        /* gets rid of default border in Firefox and Opera. */\n",
              "        border: none;\n",
              "        /* Needs to be in here for Safari polyfill so background images work as expected. */\n",
              "        background-size: auto;\n",
              "    }\n",
              "    progress:not([value]), progress:not([value])::-webkit-progress-bar {\n",
              "        background: repeating-linear-gradient(45deg, #7e7e7e, #7e7e7e 10px, #5c5c5c 10px, #5c5c5c 20px);\n",
              "    }\n",
              "    .progress-bar-interrupted, .progress-bar-interrupted::-webkit-progress-bar {\n",
              "        background: #F44336;\n",
              "    }\n",
              "</style>\n"
            ]
          },
          "metadata": {}
        },
        {
          "output_type": "display_data",
          "data": {
            "text/plain": [
              "<IPython.core.display.HTML object>"
            ],
            "text/html": []
          },
          "metadata": {}
        },
        {
          "output_type": "display_data",
          "data": {
            "text/plain": [
              "<IPython.core.display.HTML object>"
            ],
            "text/html": [
              "\n",
              "<style>\n",
              "    /* Turns off some styling */\n",
              "    progress {\n",
              "        /* gets rid of default border in Firefox and Opera. */\n",
              "        border: none;\n",
              "        /* Needs to be in here for Safari polyfill so background images work as expected. */\n",
              "        background-size: auto;\n",
              "    }\n",
              "    progress:not([value]), progress:not([value])::-webkit-progress-bar {\n",
              "        background: repeating-linear-gradient(45deg, #7e7e7e, #7e7e7e 10px, #5c5c5c 10px, #5c5c5c 20px);\n",
              "    }\n",
              "    .progress-bar-interrupted, .progress-bar-interrupted::-webkit-progress-bar {\n",
              "        background: #F44336;\n",
              "    }\n",
              "</style>\n"
            ]
          },
          "metadata": {}
        },
        {
          "output_type": "display_data",
          "data": {
            "text/plain": [
              "<IPython.core.display.HTML object>"
            ],
            "text/html": [
              "<table border=\"1\" class=\"dataframe\">\n",
              "  <thead>\n",
              "    <tr style=\"text-align: left;\">\n",
              "      <th>epoch</th>\n",
              "      <th>train_loss</th>\n",
              "      <th>valid_loss</th>\n",
              "      <th>accuracy</th>\n",
              "      <th>time</th>\n",
              "    </tr>\n",
              "  </thead>\n",
              "  <tbody>\n",
              "    <tr>\n",
              "      <td>0</td>\n",
              "      <td>0.643828</td>\n",
              "      <td>0.721630</td>\n",
              "      <td>0.360000</td>\n",
              "      <td>00:02</td>\n",
              "    </tr>\n",
              "    <tr>\n",
              "      <td>1</td>\n",
              "      <td>0.643592</td>\n",
              "      <td>0.725729</td>\n",
              "      <td>0.360000</td>\n",
              "      <td>00:01</td>\n",
              "    </tr>\n",
              "    <tr>\n",
              "      <td>2</td>\n",
              "      <td>0.634800</td>\n",
              "      <td>0.727425</td>\n",
              "      <td>0.360000</td>\n",
              "      <td>00:01</td>\n",
              "    </tr>\n",
              "    <tr>\n",
              "      <td>3</td>\n",
              "      <td>0.624565</td>\n",
              "      <td>0.727158</td>\n",
              "      <td>0.360000</td>\n",
              "      <td>00:01</td>\n",
              "    </tr>\n",
              "    <tr>\n",
              "      <td>4</td>\n",
              "      <td>0.607588</td>\n",
              "      <td>0.725407</td>\n",
              "      <td>0.360000</td>\n",
              "      <td>00:01</td>\n",
              "    </tr>\n",
              "    <tr>\n",
              "      <td>5</td>\n",
              "      <td>0.577019</td>\n",
              "      <td>0.721895</td>\n",
              "      <td>0.360000</td>\n",
              "      <td>00:01</td>\n",
              "    </tr>\n",
              "    <tr>\n",
              "      <td>6</td>\n",
              "      <td>0.550238</td>\n",
              "      <td>0.718445</td>\n",
              "      <td>0.360000</td>\n",
              "      <td>00:01</td>\n",
              "    </tr>\n",
              "    <tr>\n",
              "      <td>7</td>\n",
              "      <td>0.526045</td>\n",
              "      <td>0.715326</td>\n",
              "      <td>0.360000</td>\n",
              "      <td>00:02</td>\n",
              "    </tr>\n",
              "    <tr>\n",
              "      <td>8</td>\n",
              "      <td>0.497198</td>\n",
              "      <td>0.713950</td>\n",
              "      <td>0.360000</td>\n",
              "      <td>00:02</td>\n",
              "    </tr>\n",
              "    <tr>\n",
              "      <td>9</td>\n",
              "      <td>0.473657</td>\n",
              "      <td>0.715550</td>\n",
              "      <td>0.360000</td>\n",
              "      <td>00:01</td>\n",
              "    </tr>\n",
              "    <tr>\n",
              "      <td>10</td>\n",
              "      <td>0.446674</td>\n",
              "      <td>0.716711</td>\n",
              "      <td>0.360000</td>\n",
              "      <td>00:01</td>\n",
              "    </tr>\n",
              "    <tr>\n",
              "      <td>11</td>\n",
              "      <td>0.425477</td>\n",
              "      <td>0.717777</td>\n",
              "      <td>0.360000</td>\n",
              "      <td>00:01</td>\n",
              "    </tr>\n",
              "    <tr>\n",
              "      <td>12</td>\n",
              "      <td>0.402517</td>\n",
              "      <td>0.720970</td>\n",
              "      <td>0.360000</td>\n",
              "      <td>00:01</td>\n",
              "    </tr>\n",
              "    <tr>\n",
              "      <td>13</td>\n",
              "      <td>0.381537</td>\n",
              "      <td>0.726253</td>\n",
              "      <td>0.360000</td>\n",
              "      <td>00:01</td>\n",
              "    </tr>\n",
              "    <tr>\n",
              "      <td>14</td>\n",
              "      <td>0.362532</td>\n",
              "      <td>0.732509</td>\n",
              "      <td>0.360000</td>\n",
              "      <td>00:01</td>\n",
              "    </tr>\n",
              "    <tr>\n",
              "      <td>15</td>\n",
              "      <td>0.345159</td>\n",
              "      <td>0.739083</td>\n",
              "      <td>0.360000</td>\n",
              "      <td>00:02</td>\n",
              "    </tr>\n",
              "    <tr>\n",
              "      <td>16</td>\n",
              "      <td>0.329437</td>\n",
              "      <td>0.742762</td>\n",
              "      <td>0.360000</td>\n",
              "      <td>00:01</td>\n",
              "    </tr>\n",
              "    <tr>\n",
              "      <td>17</td>\n",
              "      <td>0.314727</td>\n",
              "      <td>0.744989</td>\n",
              "      <td>0.360000</td>\n",
              "      <td>00:01</td>\n",
              "    </tr>\n",
              "    <tr>\n",
              "      <td>18</td>\n",
              "      <td>0.301975</td>\n",
              "      <td>0.747064</td>\n",
              "      <td>0.360000</td>\n",
              "      <td>00:01</td>\n",
              "    </tr>\n",
              "    <tr>\n",
              "      <td>19</td>\n",
              "      <td>0.288936</td>\n",
              "      <td>0.748336</td>\n",
              "      <td>0.360000</td>\n",
              "      <td>00:01</td>\n",
              "    </tr>\n",
              "    <tr>\n",
              "      <td>20</td>\n",
              "      <td>0.276780</td>\n",
              "      <td>0.746610</td>\n",
              "      <td>0.360000</td>\n",
              "      <td>00:01</td>\n",
              "    </tr>\n",
              "    <tr>\n",
              "      <td>21</td>\n",
              "      <td>0.266076</td>\n",
              "      <td>0.743288</td>\n",
              "      <td>0.370000</td>\n",
              "      <td>00:01</td>\n",
              "    </tr>\n",
              "    <tr>\n",
              "      <td>22</td>\n",
              "      <td>0.256469</td>\n",
              "      <td>0.736867</td>\n",
              "      <td>0.370000</td>\n",
              "      <td>00:02</td>\n",
              "    </tr>\n",
              "    <tr>\n",
              "      <td>23</td>\n",
              "      <td>0.247849</td>\n",
              "      <td>0.728019</td>\n",
              "      <td>0.370000</td>\n",
              "      <td>00:02</td>\n",
              "    </tr>\n",
              "    <tr>\n",
              "      <td>24</td>\n",
              "      <td>0.239622</td>\n",
              "      <td>0.717823</td>\n",
              "      <td>0.380000</td>\n",
              "      <td>00:01</td>\n",
              "    </tr>\n",
              "  </tbody>\n",
              "</table>"
            ]
          },
          "metadata": {}
        },
        {
          "output_type": "execute_result",
          "data": {
            "text/plain": [
              "Path('models/stage1.pth')"
            ]
          },
          "metadata": {},
          "execution_count": 35
        },
        {
          "output_type": "display_data",
          "data": {
            "text/plain": [
              "<Figure size 640x480 with 1 Axes>"
            ],
            "image/png": "[encoded data removed]"
          },
          "metadata": {}
        }
      ],
      "source": [
        "# Charger le Learner sauvegardé\n",
        "learn.load('stage0')\n",
        "\n",
        "# Trouver le meilleur taux d'apprentissage\n",
        "be je st_lr = learn.lr_find()\n",
        "\n",
        "# Entraîner le modèle en utilisant le meilleur lr\"\n",
        "learn.fit_one_cycle(25, lr_max=best_lr)\n",
        "\n",
        "# Sauvegarder le modèle après l'entraînement\n",
        "learn.save('stage1')"
      ]
    },
    {
      "cell_type": "markdown",
      "metadata": {
        "id": "lWzlAHV1amxw"
      },
      "source": [
        "## 6. Visualiser les résultats"
      ]
    },
    {
      "cell_type": "code",
      "execution_count": null,
      "metadata": {
        "id": "5vJgX3rYamxy",
        "colab": {
          "base_uri": "https://localhost:8080/",
          "height": 370
        },
        "outputId": "41ba09ac-89ef-47e9-b847-37e8c39447b1"
      },
      "outputs": [
        {
          "output_type": "display_data",
          "data": {
            "text/plain": [
              "<IPython.core.display.HTML object>"
            ],
            "text/html": [
              "\n",
              "<style>\n",
              "    /* Turns off some styling */\n",
              "    progress {\n",
              "        /* gets rid of default border in Firefox and Opera. */\n",
              "        border: none;\n",
              "        /* Needs to be in here for Safari polyfill so background images work as expected. */\n",
              "        background-size: auto;\n",
              "    }\n",
              "    progress:not([value]), progress:not([value])::-webkit-progress-bar {\n",
              "        background: repeating-linear-gradient(45deg, #7e7e7e, #7e7e7e 10px, #5c5c5c 10px, #5c5c5c 20px);\n",
              "    }\n",
              "    .progress-bar-interrupted, .progress-bar-interrupted::-webkit-progress-bar {\n",
              "        background: #F44336;\n",
              "    }\n",
              "</style>\n"
            ]
          },
          "metadata": {}
        },
        {
          "output_type": "display_data",
          "data": {
            "text/plain": [
              "<IPython.core.display.HTML object>"
            ],
            "text/html": []
          },
          "metadata": {}
        },
        {
          "output_type": "display_data",
          "data": {
            "text/plain": [
              "<IPython.core.display.HTML object>"
            ],
            "text/html": [
              "\n",
              "<style>\n",
              "    /* Turns off some styling */\n",
              "    progress {\n",
              "        /* gets rid of default border in Firefox and Opera. */\n",
              "        border: none;\n",
              "        /* Needs to be in here for Safari polyfill so background images work as expected. */\n",
              "        background-size: auto;\n",
              "    }\n",
              "    progress:not([value]), progress:not([value])::-webkit-progress-bar {\n",
              "        background: repeating-linear-gradient(45deg, #7e7e7e, #7e7e7e 10px, #5c5c5c 10px, #5c5c5c 20px);\n",
              "    }\n",
              "    .progress-bar-interrupted, .progress-bar-interrupted::-webkit-progress-bar {\n",
              "        background: #F44336;\n",
              "    }\n",
              "</style>\n"
            ]
          },
          "metadata": {}
        },
        {
          "output_type": "display_data",
          "data": {
            "text/plain": [
              "<IPython.core.display.HTML object>"
            ],
            "text/html": []
          },
          "metadata": {}
        },
        {
          "output_type": "display_data",
          "data": {
            "text/plain": [
              "<Figure size 640x480 with 1 Axes>"
            ],
            "image/png": "[encoded data removed]"
          },
          "metadata": {}
        }
      ],
      "source": [
        "# Matrice de confusion\n",
        "interp = ClassificationInterpretation.from_learner(learn)\n",
        "interp.plot_confusion_matrix()"
      ]
    },
    {
      "cell_type": "code",
      "execution_count": null,
      "metadata": {
        "id": "Blxmn-HYamxw",
        "colab": {
          "base_uri": "https://localhost:8080/",
          "height": 53
        },
        "outputId": "08ee0696-899f-4285-daca-7662b9577d29"
      },
      "outputs": [
        {
          "output_type": "display_data",
          "data": {
            "text/plain": [
              "<IPython.core.display.HTML object>"
            ],
            "text/html": [
              "\n",
              "<style>\n",
              "    /* Turns off some styling */\n",
              "    progress {\n",
              "        /* gets rid of default border in Firefox and Opera. */\n",
              "        border: none;\n",
              "        /* Needs to be in here for Safari polyfill so background images work as expected. */\n",
              "        background-size: auto;\n",
              "    }\n",
              "    progress:not([value]), progress:not([value])::-webkit-progress-bar {\n",
              "        background: repeating-linear-gradient(45deg, #7e7e7e, #7e7e7e 10px, #5c5c5c 10px, #5c5c5c 20px);\n",
              "    }\n",
              "    .progress-bar-interrupted, .progress-bar-interrupted::-webkit-progress-bar {\n",
              "        background: #F44336;\n",
              "    }\n",
              "</style>\n"
            ]
          },
          "metadata": {}
        },
        {
          "output_type": "display_data",
          "data": {
            "text/plain": [
              "<IPython.core.display.HTML object>"
            ],
            "text/html": []
          },
          "metadata": {}
        },
        {
          "output_type": "stream",
          "name": "stdout",
          "text": [
            "Précision du modèle : \n",
            "tensor(0.3800)\n"
          ]
        }
      ],
      "source": [
        "# Précision du modèle\n",
        "valid_probas, valid_targets , valid_preds = learn.get_preds(dl=dls.valid, with_decoded=True)\n",
        "accuracy = (valid_targets == valid_preds).float().mean()\n",
        "print(\"Précision du modèle : \")\n",
        "print(accuracy)"
      ]
    }
  ],
  "metadata": {
    "kernelspec": {
      "display_name": "Python 3",
      "language": "python",
      "name": "python3"
    },
    "language_info": {
      "codemirror_mode": {
        "name": "ipython",
        "version": 3
      },
      "file_extension": ".py",
      "mimetype": "text/x-python",
      "name": "python",
      "nbconvert_exporter": "python",
      "pygments_lexer": "ipython3",
      "version": "3.8.10"
    },
    "colab": {
      "provenance": []
    }
  },
  "nbformat": 4,
  "nbformat_minor": 0
}